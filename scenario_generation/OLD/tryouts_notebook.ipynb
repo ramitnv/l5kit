{
 "cells": [
  {
   "cell_type": "code",
   "execution_count": null,
   "outputs": [],
   "source": [
    "import os\n",
    "\n",
    "import numpy as np\n",
    "import torch\n",
    "from l5kit.configs import load_config_data\n",
    "from l5kit.data import LocalDataManager, ChunkedDataset, get_frames_slice_from_scenes\n",
    "from l5kit.dataset import EgoDatasetVectorized\n",
    "from l5kit.vectorization.vectorizer_builder import build_vectorizer\n",
    "from l5kit.data import get_dataset_path\n",
    "from l5kit.sampling.agent_sampling_vectorized import generate_agent_sample_vectorized\n",
    "from torch.utils.data.dataloader import default_collate\n",
    "from l5kit.dataset.utils import move_to_device, move_to_numpy\n",
    "from l5kit.visualization.visualizer.zarr_utils import simulation_out_to_visualizer_scene\n",
    "from l5kit.simulation.dataset import SimulationConfig, SimulationDataset\n",
    "from l5kit.simulation.unroll import ClosedLoopSimulator\n",
    "from bokeh.io import output_notebook, show\n",
    "from l5kit.data import MapAPI\n",
    "from l5kit.visualization.visualizer.visualizer import visualize\n",
    "from l5kit.dataset import EgoDataset\n",
    "from l5kit.rasterization import build_rasterizer\n",
    "from bokeh import plotting\n",
    "\n",
    "\n",
    "dataset_name=\"val_data_loader\"\n",
    "scene_index = 0\n",
    "sample_config=\"/examples/urban_driver/config.yaml\""
   ],
   "metadata": {
    "collapsed": false,
    "pycharm": {
     "name": "#%%\n"
    }
   }
  },
  {
   "cell_type": "code",
   "execution_count": null,
   "outputs": [],
   "source": [
    "\n",
    "\n",
    "########################################################################\n",
    "# Load data and configurations\n",
    "########################################################################\n",
    "# set env variable for data\n",
    "os.environ[\"L5KIT_DATA_FOLDER\"], project_dir = get_dataset_path()\n",
    "\n",
    "dm = LocalDataManager(None)\n",
    "\n",
    "cfg = load_config_data(project_dir + sample_config)\n",
    "\n",
    "device = torch.device(\"cuda:0\" if torch.cuda.is_available() else \"cpu\")\n",
    "########################################################################\n",
    "#  Get the  dataset\n",
    "########################################################################\n",
    "eval_cfg = cfg[dataset_name]\n",
    "dataset_zarr = ChunkedDataset(dm.require(eval_cfg[\"key\"])).open()\n",
    "\"\"\" ChunkedDataset is a dataset that lives on disk in compressed chunks, it has easy to use data loading and\n",
    "writing interfaces that involves making numpy-like slices.\n",
    "Currently only .zarr directory stores are supported (i.e. the data will live in a folder on your\n",
    "local filesystem called <something>.zarr).\n",
    "\"\"\"\n",
    "vectorizer = build_vectorizer(cfg, dm)\n",
    "dataset = EgoDatasetVectorized(cfg, dataset_zarr, vectorizer)\n",
    "\"\"\"   Get a PyTorch dataset object that can be used to train DNNs with vectorized input\n",
    "Args:\n",
    "    cfg (dict): configuration file\n",
    "    zarr_dataset (ChunkedDataset): the raw zarr dataset\n",
    "    vectorizer (Vectorizer): a object that supports vectorization around an AV\n",
    "    perturbation (Optional[Perturbation]): an object that takes care of applying trajectory perturbations.\n",
    "None if not desired\n",
    "\"\"\"\n",
    "print(dataset)\n",
    "\n",
    "########################################################################\n",
    "## Setup the simulator class & unroll scene\n",
    "########################################################################\n",
    "# ==== DEFINE CLOSED-LOOP SIMULATION\n",
    "num_simulation_steps = 50\n",
    "\n",
    "sim_cfg = SimulationConfig(use_ego_gt=False, use_agents_gt=False, disable_new_agents=True,\n",
    "                           distance_th_far=500, distance_th_close=50, num_simulation_steps=num_simulation_steps,\n",
    "                           start_frame_index=0, show_info=True)\n",
    "\"\"\" Defines the parameters used for the simulation of ego and agents around it.\n",
    "    :param use_ego_gt: whether to use GT annotations for ego instead of model's outputs\n",
    "    :param use_agents_gt: whether to use GT annotations for agents instead of model's outputs\n",
    "    :param disable_new_agents: whether to disable agents that are not returned at start_frame_index\n",
    "    :param distance_th_far: if a tracked agent is closed than this value to ego, it will be controlled\n",
    "    :param distance_th_close: if a new agent is closer than this value to ego, it will be controlled\n",
    "    :param start_frame_index: the start index of the simulation\n",
    "    :param num_simulation_steps: the number of step to simulate\n",
    "    :param show_info: whether to show info logging during unroll\n",
    "\"\"\"\n",
    "\n",
    "model_path = project_dir + \"/urban_driver_dummy_model.pt\"\n",
    "model_ego = torch.load(model_path).to(device)\n",
    "model_ego = model_ego.eval()\n",
    "\n",
    "model_path = project_dir + \"/urban_driver_dummy_model.pt\"\n",
    "model_agents = torch.load(model_path).to(device)\n",
    "model_agents = model_agents.eval()\n",
    "\n",
    "sim_loop = ClosedLoopSimulator(sim_cfg, dataset, device, model_ego=model_ego, model_agents=model_agents)\n",
    "\"\"\"   Create a simulation loop object capable of unrolling ego and agents\n",
    "   :param sim_cfg: configuration for unroll\n",
    "   :param dataset: EgoDataset used while unrolling\n",
    "   :param device: a torch device. Inference will be performed here\n",
    "   :param model_ego: the model to be used for ego\n",
    "   :param model_agents: the model to be used for agents\n",
    "   :param keys_to_exclude: keys to exclude from input/output (e.g. huge blobs)\n",
    "   :param mode: the framework that uses the closed loop simulator\n",
    "\"\"\"\n",
    "\n",
    "# scenes from the EgoDataset to pick\n",
    "scene_indices = [scene_index]\n",
    "\n",
    "torch.set_grad_enabled(False) ########## The unroll gives an error if this is not used-\n",
    "# RuntimeError: Can't call numpy() on Tensor that requires grad. Use tensor.detach().numpy() instead.\n",
    "# but we can do backprop in time if this is used\n",
    "# we should probably use VectorizedUnrollModel instead (as in urban_driver/train )\n",
    "\n",
    "\n",
    "simulated_outputs = sim_loop.unroll(scene_indices, config=cfg)"
   ],
   "metadata": {
    "collapsed": false,
    "pycharm": {
     "name": "#%%\n"
    }
   }
  },
  {
   "cell_type": "code",
   "execution_count": null,
   "outputs": [],
   "source": [
    "pass\n",
    "scene_idx_in_list = 0\n",
    "frame_idx = 0\n",
    "ego_initial_inputs = simulated_outputs[scene_idx_in_list].ego_ins_outs[frame_idx].inputs\n",
    "print(ego_initial_inputs.keys())"
   ],
   "metadata": {
    "collapsed": false,
    "pycharm": {
     "name": "#%%\n"
    }
   }
  },
  {
   "cell_type": "code",
   "execution_count": null,
   "outputs": [],
   "source": [
    "num_simulation_steps = 1\n",
    "sim_cfg = SimulationConfig(use_ego_gt=False, use_agents_gt=False, disable_new_agents=True,\n",
    "                           distance_th_far=500, distance_th_close=50, num_simulation_steps=num_simulation_steps,\n",
    "                           start_frame_index=0, show_info=True)\n",
    "\n",
    "sim_dataset = SimulationDataset.from_dataset_indices(dataset, scene_indices, sim_cfg)\n",
    "frame_index = 0  # t==0\n",
    "scene_index_in_list = 0\n",
    "ego_input = sim_dataset.rasterise_frame_batch(frame_index)[scene_index_in_list]\n",
    "print(ego_input.keys())"
   ],
   "metadata": {
    "collapsed": false,
    "pycharm": {
     "name": "#%%\n"
    }
   }
  },
  {
   "cell_type": "code",
   "execution_count": null,
   "outputs": [],
   "source": [
    "   ########################################################################\n",
    "#  Plot initial scene\n",
    "########################################################################\n",
    "\n",
    "# set output to static HTML file\n",
    "# plotting.output_file(filename=\"custom_filename.html\", title=\"Static HTML file\")\n",
    "\n",
    "# create a new plot with a specific size\n",
    "fig = plotting.figure(sizing_mode=\"stretch_width\", max_width=500, height=250)\n",
    "output_notebook()\n",
    "mapAPI = MapAPI.from_cfg(dm, cfg)\n",
    "for sim_out in simulated_outputs:  # for each scene\n",
    "    vis_in = simulation_out_to_visualizer_scene(sim_out, mapAPI)\n",
    "    vis_out = visualize(sim_out.scene_id, vis_in)\n",
    "    layout, fig  = vis_out[0], vis_out[1]\n",
    "    show(layout)\n",
    "    # save the results to a file\n",
    "    # plotting.save(fig)"
   ],
   "metadata": {
    "collapsed": false,
    "pycharm": {
     "name": "#%%\n"
    }
   }
  }
 ],
 "metadata": {
  "kernelspec": {
   "display_name": "Python 3",
   "language": "python",
   "name": "python3"
  },
  "language_info": {
   "codemirror_mode": {
    "name": "ipython",
    "version": 2
   },
   "file_extension": ".py",
   "mimetype": "text/x-python",
   "name": "python",
   "nbconvert_exporter": "python",
   "pygments_lexer": "ipython2",
   "version": "2.7.6"
  }
 },
 "nbformat": 4,
 "nbformat_minor": 0
}